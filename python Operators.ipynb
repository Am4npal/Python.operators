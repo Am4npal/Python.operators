{
 "cells": [
  {
   "cell_type": "code",
   "execution_count": 4,
   "id": "8c778574-c72e-4e65-8528-eaeefc8a9d47",
   "metadata": {},
   "outputs": [
    {
     "name": "stdout",
     "output_type": "stream",
     "text": [
      "a+b= 9\n",
      "a-b= 1\n",
      "a*b= 20\n",
      "a/b= 1\n"
     ]
    }
   ],
   "source": [
    "# 1. Calculate the sum, difference, product, and quotient of two numbers.\n",
    "\n",
    "a=5\n",
    "b=4\n",
    "\n",
    "c=a+b # sum operator\n",
    "d=a-b # difference operator\n",
    "e=a*b # product operator\n",
    "f=a//b # quotient operator\n",
    "\n",
    "print(\"a+b=\",c)\n",
    "print(\"a-b=\",d)\n",
    "print(\"a*b=\",e)\n",
    "print(\"a/b=\",f)"
   ]
  },
  {
   "cell_type": "code",
   "execution_count": 4,
   "id": "2bdbf824-75c9-4d62-a249-a642a5f0bb29",
   "metadata": {},
   "outputs": [
    {
     "name": "stdout",
     "output_type": "stream",
     "text": [
      "6\n",
      "18\n",
      "6\n",
      "0\n",
      "3\n",
      "3\n"
     ]
    }
   ],
   "source": [
    "# 2. Perform various assignment operations on a variable.\n",
    "\n",
    "a=3\n",
    "\n",
    "a+=3\n",
    "print(a)\n",
    "\n",
    "a*=3\n",
    "print(a)\n",
    "\n",
    "a//=3\n",
    "print(a)\n",
    "\n",
    "a%=3\n",
    "print(a)\n",
    "\n",
    "a^=3\n",
    "print(a)\n",
    "\n",
    "a>>3\n",
    "print(a)\n"
   ]
  },
  {
   "cell_type": "code",
   "execution_count": 9,
   "id": "32c1c89e-256c-4b70-89ff-da03f1ce4427",
   "metadata": {},
   "outputs": [
    {
     "data": {
      "text/plain": [
       "False"
      ]
     },
     "execution_count": 9,
     "metadata": {},
     "output_type": "execute_result"
    }
   ],
   "source": [
    "# 3. Compare two numbers and print the results.\n",
    "\n",
    "a=5\n",
    "b=9\n",
    "\n",
    "a>b\n",
    "\n",
    "\n"
   ]
  },
  {
   "cell_type": "code",
   "execution_count": 12,
   "id": "5e289295-7348-49a9-83ae-4392c28dcdc0",
   "metadata": {},
   "outputs": [
    {
     "data": {
      "text/plain": [
       "False"
      ]
     },
     "execution_count": 12,
     "metadata": {},
     "output_type": "execute_result"
    }
   ],
   "source": [
    "# 4. Check conditions using logical operators.\n",
    "\n",
    "a=5\n",
    "b=4\n",
    "\n",
    "a>b and a<b \n"
   ]
  },
  {
   "cell_type": "code",
   "execution_count": 13,
   "id": "2750950b-ce30-427a-9cd8-4c2dccd580a2",
   "metadata": {},
   "outputs": [
    {
     "data": {
      "text/plain": [
       "True"
      ]
     },
     "execution_count": 13,
     "metadata": {},
     "output_type": "execute_result"
    }
   ],
   "source": [
    "True or True"
   ]
  },
  {
   "cell_type": "code",
   "execution_count": 16,
   "id": "08786dbd-636b-4866-895f-c0d59f992aad",
   "metadata": {},
   "outputs": [
    {
     "data": {
      "text/plain": [
       "False"
      ]
     },
     "execution_count": 16,
     "metadata": {},
     "output_type": "execute_result"
    }
   ],
   "source": [
    "not True"
   ]
  },
  {
   "cell_type": "code",
   "execution_count": 20,
   "id": "e71a4aed-e142-4c61-9839-3ac7177988a7",
   "metadata": {},
   "outputs": [
    {
     "data": {
      "text/plain": [
       "True"
      ]
     },
     "execution_count": 20,
     "metadata": {},
     "output_type": "execute_result"
    }
   ],
   "source": [
    "# 5. Check the identity of variables.\n",
    "\n",
    "a = \"Aman\"\n",
    "\n",
    "n = \"Aman\"\n",
    "\n",
    "a is n\n"
   ]
  },
  {
   "cell_type": "code",
   "execution_count": 21,
   "id": "cb46db60-43ba-4822-b7ba-ca3bb0c94e4c",
   "metadata": {},
   "outputs": [
    {
     "data": {
      "text/plain": [
       "False"
      ]
     },
     "execution_count": 21,
     "metadata": {},
     "output_type": "execute_result"
    }
   ],
   "source": [
    "a=10\n",
    "b=\"10\"\n",
    "a is b"
   ]
  },
  {
   "cell_type": "code",
   "execution_count": 22,
   "id": "2429e896-583d-4e6a-aba9-fcce1ab8b875",
   "metadata": {},
   "outputs": [
    {
     "data": {
      "text/plain": [
       "True"
      ]
     },
     "execution_count": 22,
     "metadata": {},
     "output_type": "execute_result"
    }
   ],
   "source": [
    "a is not b"
   ]
  },
  {
   "cell_type": "code",
   "execution_count": 30,
   "id": "257950ac-b047-45a2-8518-0c8e7d5f49aa",
   "metadata": {},
   "outputs": [
    {
     "name": "stdout",
     "output_type": "stream",
     "text": [
      "11\n",
      "0b1011\n",
      "\n",
      "8\n",
      "0b1000\n",
      "\n",
      "9216\n",
      "0b10010000000000\n",
      "\n",
      "0\n",
      "0b0\n"
     ]
    }
   ],
   "source": [
    "# 6. Perform bitwise operations on any two integers.\n",
    "\n",
    "a= 9\n",
    "b= 10\n",
    "\n",
    "print(a|b) # bitwisw or operator\n",
    "print(bin(a|b))\n",
    "print()\n",
    "print(a&b) # bitwise and operator\n",
    "print(bin(a&b))\n",
    "print()\n",
    "print(a<<b) # left shift operator\n",
    "print(bin(a<<b))\n",
    "print()\n",
    "print(a>>b) # right shift opearator\n",
    "print(bin(a>>b))"
   ]
  },
  {
   "cell_type": "code",
   "execution_count": 31,
   "id": "bfcad6dd-2c4e-4de7-b117-7790d8ac2316",
   "metadata": {},
   "outputs": [
    {
     "name": "stdout",
     "output_type": "stream",
     "text": [
      "-6\n",
      "4\n"
     ]
    }
   ],
   "source": [
    "# 7. Use unary operators to change the sign of a number.\n",
    "\n",
    "a=6\n",
    "\n",
    "print(-a)\n",
    "\n",
    "b= -4\n",
    "\n",
    "print(-b)\n",
    "\n"
   ]
  },
  {
   "cell_type": "code",
   "execution_count": 6,
   "id": "2b2942e5-9909-4f0a-8949-5ce252673238",
   "metadata": {},
   "outputs": [
    {
     "name": "stdout",
     "output_type": "stream",
     "text": [
      "40\n"
     ]
    }
   ],
   "source": [
    "# 8. Use the ternary operator to assign values based on conditions.\n",
    "\n",
    "a = 50\n",
    "b = 40 \n",
    "\n",
    "small = a if a < b else b\n",
    "\n",
    "print(small)"
   ]
  },
  {
   "cell_type": "code",
   "execution_count": null,
   "id": "080d3b52-4493-4475-84c7-6b19701bbd7b",
   "metadata": {},
   "outputs": [],
   "source": [
    "\n",
    "\n"
   ]
  },
  {
   "cell_type": "code",
   "execution_count": null,
   "id": "6401c45e-6ea5-4b3a-b170-f451c4939252",
   "metadata": {},
   "outputs": [],
   "source": []
  }
 ],
 "metadata": {
  "kernelspec": {
   "display_name": "Python 3 (ipykernel)",
   "language": "python",
   "name": "python3"
  },
  "language_info": {
   "codemirror_mode": {
    "name": "ipython",
    "version": 3
   },
   "file_extension": ".py",
   "mimetype": "text/x-python",
   "name": "python",
   "nbconvert_exporter": "python",
   "pygments_lexer": "ipython3",
   "version": "3.10.8"
  }
 },
 "nbformat": 4,
 "nbformat_minor": 5
}
